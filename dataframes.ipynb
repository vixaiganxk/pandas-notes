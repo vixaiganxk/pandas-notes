{
 "cells": [
  {
   "cell_type": "markdown",
   "metadata": {},
   "source": [
    "## **Pandas Fundamentals**"
   ]
  },
  {
   "cell_type": "markdown",
   "metadata": {},
   "source": [
    "## DataFrame & Series\n",
    "1. **DataFrame**\n",
    "    - Two-dimensional, tabular data structure.\n",
    "    - Rows & Columns - each column can be different datatypes.\n",
    "    - Container for storing the manipulated data in labeled index.\n",
    "2. **Series**\n",
    "    - One-dimensional labeled array which consists of data values with associated index.\n",
    "    - Values of single column or collections of all the rows of single column.\n",
    "3. **Integer Location [iloc]**\n",
    "    - Integer-based indexing, used for selection by the position.\n",
    "    - Allows the selection of data using integer indices of rows and columns.\n",
    "    - While slicing excludes the end range. \n",
    "4. **Label Location [loc]**\n",
    "    - Label-based indexing, used for selection by the labels.\n",
    "    - Allows the selection of data using labels of rows and columns.\n",
    "    - While slicing includes the end range. "
   ]
  },
  {
   "cell_type": "markdown",
   "metadata": {},
   "source": [
    "### 1. Importing the packages"
   ]
  },
  {
   "cell_type": "code",
   "execution_count": 13,
   "metadata": {},
   "outputs": [],
   "source": [
    "import pandas as pd "
   ]
  },
  {
   "cell_type": "markdown",
   "metadata": {},
   "source": [
    "### 2. Creating a the dictionary and dataFrame"
   ]
  },
  {
   "cell_type": "code",
   "execution_count": 14,
   "metadata": {},
   "outputs": [
    {
     "data": {
      "text/html": [
       "<div>\n",
       "<style scoped>\n",
       "    .dataframe tbody tr th:only-of-type {\n",
       "        vertical-align: middle;\n",
       "    }\n",
       "\n",
       "    .dataframe tbody tr th {\n",
       "        vertical-align: top;\n",
       "    }\n",
       "\n",
       "    .dataframe thead th {\n",
       "        text-align: right;\n",
       "    }\n",
       "</style>\n",
       "<table border=\"1\" class=\"dataframe\">\n",
       "  <thead>\n",
       "    <tr style=\"text-align: right;\">\n",
       "      <th></th>\n",
       "      <th>first_name</th>\n",
       "      <th>last_name</th>\n",
       "      <th>email_ID</th>\n",
       "      <th>contact_no</th>\n",
       "    </tr>\n",
       "  </thead>\n",
       "  <tbody>\n",
       "    <tr>\n",
       "      <th>0</th>\n",
       "      <td>Magic</td>\n",
       "      <td>Moments</td>\n",
       "      <td>mmoments@gmail.com</td>\n",
       "      <td>9823983242</td>\n",
       "    </tr>\n",
       "    <tr>\n",
       "      <th>1</th>\n",
       "      <td>Old</td>\n",
       "      <td>Monk</td>\n",
       "      <td>oldmonk@yahoo.com</td>\n",
       "      <td>4327847238</td>\n",
       "    </tr>\n",
       "    <tr>\n",
       "      <th>2</th>\n",
       "      <td>Jack</td>\n",
       "      <td>Daniels</td>\n",
       "      <td>jackdaniel@jack.com</td>\n",
       "      <td>6739297423</td>\n",
       "    </tr>\n",
       "    <tr>\n",
       "      <th>3</th>\n",
       "      <td>Johnnie</td>\n",
       "      <td>Walker</td>\n",
       "      <td>Miki@tyson.com</td>\n",
       "      <td>7889732131</td>\n",
       "    </tr>\n",
       "  </tbody>\n",
       "</table>\n",
       "</div>"
      ],
      "text/plain": [
       "  first_name last_name             email_ID  contact_no\n",
       "0      Magic   Moments   mmoments@gmail.com  9823983242\n",
       "1        Old      Monk    oldmonk@yahoo.com  4327847238\n",
       "2       Jack   Daniels  jackdaniel@jack.com  6739297423\n",
       "3    Johnnie    Walker       Miki@tyson.com  7889732131"
      ]
     },
     "execution_count": 14,
     "metadata": {},
     "output_type": "execute_result"
    }
   ],
   "source": [
    "people = {\n",
    "    'first_name': ['Magic', 'Old', 'Jack', 'Johnnie'],\n",
    "    'last_name': ['Moments', 'Monk', 'Daniels', 'Walker'],\n",
    "    'email_ID': ['mmoments@gmail.com', 'oldmonk@yahoo.com', 'jackdaniel@jack.com', 'Miki@tyson.com'],\n",
    "    'contact_no': [9823983242, 4327847238, 6739297423, 7889732131]\n",
    "}\n",
    "\n",
    "people_df = pd.DataFrame(people)\n",
    "people_df"
   ]
  },
  {
   "cell_type": "markdown",
   "metadata": {},
   "source": [
    "### 3. Accessing the dictionary\n",
    "1. Definition\n",
    "- Data type of key-value pair which aslo be heterogeneous\n",
    "- Accessed by only using the key.\n",
    "- Can't be accessed using the dot notation"
   ]
  },
  {
   "cell_type": "code",
   "execution_count": 15,
   "metadata": {},
   "outputs": [
    {
     "data": {
      "text/plain": [
       "[9823983242, 4327847238, 6739297423, 7889732131]"
      ]
     },
     "execution_count": 15,
     "metadata": {},
     "output_type": "execute_result"
    }
   ],
   "source": [
    "#---><Dictionary><---\n",
    "people['first_name']\n",
    "people['last_name']\n",
    "people['email_ID']\n",
    "people['contact_no']"
   ]
  },
  {
   "cell_type": "markdown",
   "metadata": {},
   "source": [
    "### 4. Accessing the dataframe\n",
    "- Dataframe is collection of Series.\n",
    "- Can be accessed by both key and dot notations.\n"
   ]
  },
  {
   "cell_type": "code",
   "execution_count": 16,
   "metadata": {},
   "outputs": [
    {
     "data": {
      "text/plain": [
       "0    9823983242\n",
       "1    4327847238\n",
       "2    6739297423\n",
       "3    7889732131\n",
       "Name: contact_no, dtype: int64"
      ]
     },
     "execution_count": 16,
     "metadata": {},
     "output_type": "execute_result"
    }
   ],
   "source": [
    "#Accessing the dataframe by key (bracket notation)--- Best way of accessing the df----\n",
    "people_df['email_ID']\n",
    "people_df['first_name']\n",
    "people_df['last_name']\n",
    "people_df['contact_no']\n"
   ]
  },
  {
   "cell_type": "code",
   "execution_count": 17,
   "metadata": {},
   "outputs": [
    {
     "data": {
      "text/plain": [
       "0    9823983242\n",
       "1    4327847238\n",
       "2    6739297423\n",
       "3    7889732131\n",
       "Name: contact_no, dtype: int64"
      ]
     },
     "execution_count": 17,
     "metadata": {},
     "output_type": "execute_result"
    }
   ],
   "source": [
    "#Accessing the dataframe using dot notation----Not a good way-----\n",
    "#---------Due to the methods/functions might be in name of the column of the df-------\n",
    "people_df.email_ID\n",
    "people_df.first_name\n",
    "people_df.last_name\n",
    "people_df.contact_no"
   ]
  },
  {
   "cell_type": "markdown",
   "metadata": {},
   "source": [
    "### 5. Accessing Multiple Columns\n",
    "- Insert the list with names of the column into the bracket notation with the dataframe name. \n",
    "- Series can't be accessed for multiple way. \n",
    "    - **Reason:** It's the values of all the rows of a single column/ One-dimensional array."
   ]
  },
  {
   "cell_type": "code",
   "execution_count": 18,
   "metadata": {},
   "outputs": [
    {
     "data": {
      "text/html": [
       "<div>\n",
       "<style scoped>\n",
       "    .dataframe tbody tr th:only-of-type {\n",
       "        vertical-align: middle;\n",
       "    }\n",
       "\n",
       "    .dataframe tbody tr th {\n",
       "        vertical-align: top;\n",
       "    }\n",
       "\n",
       "    .dataframe thead th {\n",
       "        text-align: right;\n",
       "    }\n",
       "</style>\n",
       "<table border=\"1\" class=\"dataframe\">\n",
       "  <thead>\n",
       "    <tr style=\"text-align: right;\">\n",
       "      <th></th>\n",
       "      <th>first_name</th>\n",
       "      <th>last_name</th>\n",
       "      <th>contact_no</th>\n",
       "    </tr>\n",
       "  </thead>\n",
       "  <tbody>\n",
       "    <tr>\n",
       "      <th>0</th>\n",
       "      <td>Magic</td>\n",
       "      <td>Moments</td>\n",
       "      <td>9823983242</td>\n",
       "    </tr>\n",
       "    <tr>\n",
       "      <th>1</th>\n",
       "      <td>Old</td>\n",
       "      <td>Monk</td>\n",
       "      <td>4327847238</td>\n",
       "    </tr>\n",
       "    <tr>\n",
       "      <th>2</th>\n",
       "      <td>Jack</td>\n",
       "      <td>Daniels</td>\n",
       "      <td>6739297423</td>\n",
       "    </tr>\n",
       "    <tr>\n",
       "      <th>3</th>\n",
       "      <td>Johnnie</td>\n",
       "      <td>Walker</td>\n",
       "      <td>7889732131</td>\n",
       "    </tr>\n",
       "  </tbody>\n",
       "</table>\n",
       "</div>"
      ],
      "text/plain": [
       "  first_name last_name  contact_no\n",
       "0      Magic   Moments  9823983242\n",
       "1        Old      Monk  4327847238\n",
       "2       Jack   Daniels  6739297423\n",
       "3    Johnnie    Walker  7889732131"
      ]
     },
     "execution_count": 18,
     "metadata": {},
     "output_type": "execute_result"
    }
   ],
   "source": [
    "#Listing the columns\n",
    "people_df.columns\n",
    "\n",
    "people_df[['first_name', 'last_name', 'contact_no']]\n",
    "\n",
    "#Brings error if you execute the below-----columns names without the inner bracket\n",
    "#people_df['first_name', 'last_name']"
   ]
  },
  {
   "cell_type": "markdown",
   "metadata": {},
   "source": [
    "### 6. Integer Location [iloc] operations"
   ]
  },
  {
   "cell_type": "code",
   "execution_count": 19,
   "metadata": {},
   "outputs": [
    {
     "data": {
      "text/html": [
       "<div>\n",
       "<style scoped>\n",
       "    .dataframe tbody tr th:only-of-type {\n",
       "        vertical-align: middle;\n",
       "    }\n",
       "\n",
       "    .dataframe tbody tr th {\n",
       "        vertical-align: top;\n",
       "    }\n",
       "\n",
       "    .dataframe thead th {\n",
       "        text-align: right;\n",
       "    }\n",
       "</style>\n",
       "<table border=\"1\" class=\"dataframe\">\n",
       "  <thead>\n",
       "    <tr style=\"text-align: right;\">\n",
       "      <th></th>\n",
       "      <th>first_name</th>\n",
       "      <th>email_ID</th>\n",
       "      <th>contact_no</th>\n",
       "    </tr>\n",
       "  </thead>\n",
       "  <tbody>\n",
       "    <tr>\n",
       "      <th>1</th>\n",
       "      <td>Old</td>\n",
       "      <td>oldmonk@yahoo.com</td>\n",
       "      <td>4327847238</td>\n",
       "    </tr>\n",
       "  </tbody>\n",
       "</table>\n",
       "</div>"
      ],
      "text/plain": [
       "  first_name           email_ID  contact_no\n",
       "1        Old  oldmonk@yahoo.com  4327847238"
      ]
     },
     "execution_count": 19,
     "metadata": {},
     "output_type": "execute_result"
    }
   ],
   "source": [
    "#accessing the rows using index ---><list all the elements in the 0th index><---\n",
    "people_df.iloc[0]\n",
    "\n",
    "#accesing the specific value in the row ---><list the 2nd index row and 2nd index column value [email_ID]><---\n",
    "people_df.iloc[2,2]\n",
    "\n",
    "#Accesing using iloc as a dataframe ---><results the 0th index as a dataframe><---\n",
    "people_df.iloc[[0]]\n",
    "\n",
    "#Accessing multiple rows using iloc ---><results the 0th, 1st and 2nd index row values in a dataframe><---\n",
    "people_df.iloc[[0,1,2]]\n",
    "\n",
    "#Access the multiple rows with specific column using iloc ---><results the 0th and 2nd row values with 0th and 2nd index columns ><---\n",
    "people_df.iloc[[0,2], [0,3]]\n",
    "\n",
    "#Specific rows (1st index) with selective columns(0th, 2nd and 3rd index)\n",
    "people_df.iloc[[1],[0,2,3]]\n"
   ]
  },
  {
   "cell_type": "markdown",
   "metadata": {},
   "source": [
    "### 6A. Slicing Operation using iloc"
   ]
  },
  {
   "cell_type": "code",
   "execution_count": 20,
   "metadata": {},
   "outputs": [
    {
     "data": {
      "text/html": [
       "<div>\n",
       "<style scoped>\n",
       "    .dataframe tbody tr th:only-of-type {\n",
       "        vertical-align: middle;\n",
       "    }\n",
       "\n",
       "    .dataframe tbody tr th {\n",
       "        vertical-align: top;\n",
       "    }\n",
       "\n",
       "    .dataframe thead th {\n",
       "        text-align: right;\n",
       "    }\n",
       "</style>\n",
       "<table border=\"1\" class=\"dataframe\">\n",
       "  <thead>\n",
       "    <tr style=\"text-align: right;\">\n",
       "      <th></th>\n",
       "      <th>last_name</th>\n",
       "      <th>contact_no</th>\n",
       "    </tr>\n",
       "  </thead>\n",
       "  <tbody>\n",
       "    <tr>\n",
       "      <th>0</th>\n",
       "      <td>Moments</td>\n",
       "      <td>9823983242</td>\n",
       "    </tr>\n",
       "    <tr>\n",
       "      <th>1</th>\n",
       "      <td>Monk</td>\n",
       "      <td>4327847238</td>\n",
       "    </tr>\n",
       "    <tr>\n",
       "      <th>2</th>\n",
       "      <td>Daniels</td>\n",
       "      <td>6739297423</td>\n",
       "    </tr>\n",
       "    <tr>\n",
       "      <th>3</th>\n",
       "      <td>Walker</td>\n",
       "      <td>7889732131</td>\n",
       "    </tr>\n",
       "  </tbody>\n",
       "</table>\n",
       "</div>"
      ],
      "text/plain": [
       "  last_name  contact_no\n",
       "0   Moments  9823983242\n",
       "1      Monk  4327847238\n",
       "2   Daniels  6739297423\n",
       "3    Walker  7889732131"
      ]
     },
     "execution_count": 20,
     "metadata": {},
     "output_type": "execute_result"
    }
   ],
   "source": [
    "#To print the entire dataframe\n",
    "people_df.iloc[:]\n",
    "\n",
    "#All rows of first two columns of the dataframe\n",
    "people_df.iloc[:,:2]\n",
    "\n",
    "#All columns with first two rows of the dataframe\n",
    "people_df.iloc[:2,:]\n",
    "\n",
    "#Specific rows (0 and 2nd index) with their first two columns\n",
    "people_df.iloc[[0,2],:2]\n",
    "\n",
    "#Specific columns (1st and 3rd index) of with all the rows\n",
    "people_df.iloc[:,[1,3]]\n",
    "\n"
   ]
  },
  {
   "cell_type": "markdown",
   "metadata": {},
   "source": [
    "### 7. Label Location [loc] operations"
   ]
  },
  {
   "cell_type": "code",
   "execution_count": 21,
   "metadata": {},
   "outputs": [
    {
     "data": {
      "text/html": [
       "<div>\n",
       "<style scoped>\n",
       "    .dataframe tbody tr th:only-of-type {\n",
       "        vertical-align: middle;\n",
       "    }\n",
       "\n",
       "    .dataframe tbody tr th {\n",
       "        vertical-align: top;\n",
       "    }\n",
       "\n",
       "    .dataframe thead th {\n",
       "        text-align: right;\n",
       "    }\n",
       "</style>\n",
       "<table border=\"1\" class=\"dataframe\">\n",
       "  <thead>\n",
       "    <tr style=\"text-align: right;\">\n",
       "      <th></th>\n",
       "      <th>first_name</th>\n",
       "      <th>email_ID</th>\n",
       "      <th>last_name</th>\n",
       "    </tr>\n",
       "  </thead>\n",
       "  <tbody>\n",
       "    <tr>\n",
       "      <th>0</th>\n",
       "      <td>Magic</td>\n",
       "      <td>mmoments@gmail.com</td>\n",
       "      <td>Moments</td>\n",
       "    </tr>\n",
       "    <tr>\n",
       "      <th>1</th>\n",
       "      <td>Old</td>\n",
       "      <td>oldmonk@yahoo.com</td>\n",
       "      <td>Monk</td>\n",
       "    </tr>\n",
       "    <tr>\n",
       "      <th>2</th>\n",
       "      <td>Jack</td>\n",
       "      <td>jackdaniel@jack.com</td>\n",
       "      <td>Daniels</td>\n",
       "    </tr>\n",
       "    <tr>\n",
       "      <th>3</th>\n",
       "      <td>Johnnie</td>\n",
       "      <td>Miki@tyson.com</td>\n",
       "      <td>Walker</td>\n",
       "    </tr>\n",
       "  </tbody>\n",
       "</table>\n",
       "</div>"
      ],
      "text/plain": [
       "  first_name             email_ID last_name\n",
       "0      Magic   mmoments@gmail.com   Moments\n",
       "1        Old    oldmonk@yahoo.com      Monk\n",
       "2       Jack  jackdaniel@jack.com   Daniels\n",
       "3    Johnnie       Miki@tyson.com    Walker"
      ]
     },
     "execution_count": 21,
     "metadata": {},
     "output_type": "execute_result"
    }
   ],
   "source": [
    "#Specific column with all the rows\n",
    "people_df.loc[:, ['email_ID']]\n",
    "\n",
    "#Specific rows with all columns\n",
    "people_df.loc[[3], :]\n",
    "\n",
    "#Multiple rows with all columns\n",
    "people_df.loc[[0,2,3], :]\n",
    "\n",
    "#Multiple columns with all rows\n",
    "people_df.loc[:, ['first_name', 'email_ID', 'last_name']]"
   ]
  },
  {
   "cell_type": "markdown",
   "metadata": {},
   "source": [
    "### 7A. Slicing Operations using loc"
   ]
  },
  {
   "cell_type": "code",
   "execution_count": 22,
   "metadata": {},
   "outputs": [
    {
     "data": {
      "text/html": [
       "<div>\n",
       "<style scoped>\n",
       "    .dataframe tbody tr th:only-of-type {\n",
       "        vertical-align: middle;\n",
       "    }\n",
       "\n",
       "    .dataframe tbody tr th {\n",
       "        vertical-align: top;\n",
       "    }\n",
       "\n",
       "    .dataframe thead th {\n",
       "        text-align: right;\n",
       "    }\n",
       "</style>\n",
       "<table border=\"1\" class=\"dataframe\">\n",
       "  <thead>\n",
       "    <tr style=\"text-align: right;\">\n",
       "      <th></th>\n",
       "      <th>last_name</th>\n",
       "      <th>email_ID</th>\n",
       "      <th>contact_no</th>\n",
       "    </tr>\n",
       "  </thead>\n",
       "  <tbody>\n",
       "    <tr>\n",
       "      <th>1</th>\n",
       "      <td>Monk</td>\n",
       "      <td>oldmonk@yahoo.com</td>\n",
       "      <td>4327847238</td>\n",
       "    </tr>\n",
       "    <tr>\n",
       "      <th>2</th>\n",
       "      <td>Daniels</td>\n",
       "      <td>jackdaniel@jack.com</td>\n",
       "      <td>6739297423</td>\n",
       "    </tr>\n",
       "    <tr>\n",
       "      <th>3</th>\n",
       "      <td>Walker</td>\n",
       "      <td>Miki@tyson.com</td>\n",
       "      <td>7889732131</td>\n",
       "    </tr>\n",
       "  </tbody>\n",
       "</table>\n",
       "</div>"
      ],
      "text/plain": [
       "  last_name             email_ID  contact_no\n",
       "1      Monk    oldmonk@yahoo.com  4327847238\n",
       "2   Daniels  jackdaniel@jack.com  6739297423\n",
       "3    Walker       Miki@tyson.com  7889732131"
      ]
     },
     "execution_count": 22,
     "metadata": {},
     "output_type": "execute_result"
    }
   ],
   "source": [
    "#Entire dataframe using slicing\n",
    "people_df.loc[:, :]\n",
    "\n",
    "#All columns with specific range of rows--->< Here end value is included (0:2) - (0,1,2) ><---\n",
    "people_df.loc[0:2, :]\n",
    "\n",
    "#All rows with specific range of columns\n",
    "people_df.loc[:, 'first_name':'contact_no']\n",
    "\n",
    "#Specific columns and specific rows\n",
    "people_df.loc[[1,0,3], ['first_name','last_name', 'contact_no']]\n",
    "\n",
    "#Range of rows and range of columns\n",
    "people_df.loc[1:3, 'last_name':'contact_no']"
   ]
  },
  {
   "cell_type": "markdown",
   "metadata": {},
   "source": [
    "### 8. Reading a csv file"
   ]
  },
  {
   "cell_type": "code",
   "execution_count": 23,
   "metadata": {},
   "outputs": [
    {
     "data": {
      "text/html": [
       "<div>\n",
       "<style scoped>\n",
       "    .dataframe tbody tr th:only-of-type {\n",
       "        vertical-align: middle;\n",
       "    }\n",
       "\n",
       "    .dataframe tbody tr th {\n",
       "        vertical-align: top;\n",
       "    }\n",
       "\n",
       "    .dataframe thead th {\n",
       "        text-align: right;\n",
       "    }\n",
       "</style>\n",
       "<table border=\"1\" class=\"dataframe\">\n",
       "  <thead>\n",
       "    <tr style=\"text-align: right;\">\n",
       "      <th></th>\n",
       "      <th>PersonName</th>\n",
       "      <th>Country</th>\n",
       "      <th>Discipline</th>\n",
       "    </tr>\n",
       "  </thead>\n",
       "  <tbody>\n",
       "    <tr>\n",
       "      <th>0</th>\n",
       "      <td>AALERUD Katrine</td>\n",
       "      <td>Norway</td>\n",
       "      <td>Cycling Road</td>\n",
       "    </tr>\n",
       "    <tr>\n",
       "      <th>1</th>\n",
       "      <td>ABAD Nestor</td>\n",
       "      <td>Spain</td>\n",
       "      <td>Artistic Gymnastics</td>\n",
       "    </tr>\n",
       "    <tr>\n",
       "      <th>2</th>\n",
       "      <td>ABAGNALE Giovanni</td>\n",
       "      <td>Italy</td>\n",
       "      <td>Rowing</td>\n",
       "    </tr>\n",
       "    <tr>\n",
       "      <th>3</th>\n",
       "      <td>ABALDE Alberto</td>\n",
       "      <td>Spain</td>\n",
       "      <td>Basketball</td>\n",
       "    </tr>\n",
       "    <tr>\n",
       "      <th>4</th>\n",
       "      <td>ABALDE Tamara</td>\n",
       "      <td>Spain</td>\n",
       "      <td>Basketball</td>\n",
       "    </tr>\n",
       "  </tbody>\n",
       "</table>\n",
       "</div>"
      ],
      "text/plain": [
       "          PersonName Country           Discipline\n",
       "0    AALERUD Katrine  Norway         Cycling Road\n",
       "1        ABAD Nestor   Spain  Artistic Gymnastics\n",
       "2  ABAGNALE Giovanni   Italy               Rowing\n",
       "3     ABALDE Alberto   Spain           Basketball\n",
       "4      ABALDE Tamara   Spain           Basketball"
      ]
     },
     "execution_count": 23,
     "metadata": {},
     "output_type": "execute_result"
    }
   ],
   "source": [
    "#Reading a csv for Atheletes\n",
    "file_path = './data/Athletes.csv'\n",
    "\n",
    "dataframe = pd.read_csv(file_path, encoding='latin1')\n",
    "dataframe.head()"
   ]
  },
  {
   "cell_type": "markdown",
   "metadata": {},
   "source": [
    "### 9. Pandas Functions"
   ]
  },
  {
   "cell_type": "code",
   "execution_count": 24,
   "metadata": {},
   "outputs": [
    {
     "name": "stdout",
     "output_type": "stream",
     "text": [
      "<class 'pandas.core.frame.DataFrame'>\n",
      "RangeIndex: 11085 entries, 0 to 11084\n",
      "Data columns (total 3 columns):\n",
      " #   Column      Non-Null Count  Dtype \n",
      "---  ------      --------------  ----- \n",
      " 0   PersonName  11085 non-null  object\n",
      " 1   Country     11085 non-null  object\n",
      " 2   Discipline  11085 non-null  object\n",
      "dtypes: object(3)\n",
      "memory usage: 259.9+ KB\n"
     ]
    },
    {
     "data": {
      "text/plain": [
       "Index(['PersonName', 'Country', 'Discipline'], dtype='object')"
      ]
     },
     "execution_count": 24,
     "metadata": {},
     "output_type": "execute_result"
    }
   ],
   "source": [
    "#Reading first 5 rows\n",
    "dataframe.head()\n",
    "\n",
    "#Reading specific number of rows-><(10)><-from the start\n",
    "dataframe.head(10)\n",
    "\n",
    "#Reading last 5 rows\n",
    "dataframe.tail()\n",
    "\n",
    "#Reading specific number of rows-><(8)><-from the last\n",
    "dataframe.tail(8)\n",
    "\n",
    "#Figure out the size of dataframe---><(rows, columns)><---\n",
    "dataframe.shape\n",
    "\n",
    "#Basic information about the dataframe\n",
    "dataframe.info()\n",
    "\n",
    "#Summary statistics of the dataframe\n",
    "dataframe.describe()\n",
    "\n",
    "#Entire columns in the dataframe\n",
    "dataframe.columns"
   ]
  }
 ],
 "metadata": {
  "kernelspec": {
   "display_name": "Python 3",
   "language": "python",
   "name": "python3"
  },
  "language_info": {
   "codemirror_mode": {
    "name": "ipython",
    "version": 3
   },
   "file_extension": ".py",
   "mimetype": "text/x-python",
   "name": "python",
   "nbconvert_exporter": "python",
   "pygments_lexer": "ipython3",
   "version": "3.11.4"
  }
 },
 "nbformat": 4,
 "nbformat_minor": 2
}
